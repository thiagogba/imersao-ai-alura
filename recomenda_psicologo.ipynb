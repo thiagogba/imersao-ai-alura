{
  "nbformat": 4,
  "nbformat_minor": 0,
  "metadata": {
    "colab": {
      "provenance": [],
      "authorship_tag": "ABX9TyNBUSktVnL2iOODWWE5ETY3",
      "include_colab_link": true
    },
    "kernelspec": {
      "name": "python3",
      "display_name": "Python 3"
    },
    "language_info": {
      "name": "python"
    }
  },
  "cells": [
    {
      "cell_type": "markdown",
      "metadata": {
        "id": "view-in-github",
        "colab_type": "text"
      },
      "source": [
        "<a href=\"https://colab.research.google.com/github/thiagogba/imersao-ai-alura/blob/main/recomenda_psicologo.ipynb\" target=\"_parent\"><img src=\"https://colab.research.google.com/assets/colab-badge.svg\" alt=\"Open In Colab\"/></a>"
      ]
    },
    {
      "cell_type": "code",
      "source": [
        "!pip install -U -q google.generativeai"
      ],
      "metadata": {
        "id": "7WxXgjIbSh-Q"
      },
      "execution_count": 1,
      "outputs": []
    },
    {
      "cell_type": "code",
      "source": [
        "!if ! [ -f \"lista_psicologos.csv\" ]; then wget -q https://raw.githubusercontent.com/thiagogba/imersao-ai-alura/main/lista_psicologos.csv; fi"
      ],
      "metadata": {
        "id": "zcILI5eKniZK"
      },
      "execution_count": 9,
      "outputs": []
    },
    {
      "cell_type": "code",
      "source": [
        "import google.generativeai as genai\n",
        "from google.colab import userdata\n",
        "\n",
        "lista_psi = \"\"\n",
        "with open('lista_psicologos.csv', 'r') as file:\n",
        "    lista_psi = file.read()\n",
        "\n",
        "genai.configure(api_key=userdata.get('GEMINI_API_KEY'))\n",
        "model = genai.GenerativeModel('models/gemini-pro')"
      ],
      "metadata": {
        "id": "2gyLzApZStcn"
      },
      "execution_count": 3,
      "outputs": []
    },
    {
      "cell_type": "code",
      "source": [
        "dados = input(\"Informe os sintomas da pessoa: \")"
      ],
      "metadata": {
        "colab": {
          "base_uri": "https://localhost:8080/"
        },
        "id": "url3Tt9mba3H",
        "outputId": "88e1c72b-e04c-4342-cc98-055d124df255"
      },
      "execution_count": 4,
      "outputs": [
        {
          "name": "stdout",
          "output_type": "stream",
          "text": [
            "Informe os sintomas da pessoa: choro, medo\n"
          ]
        }
      ]
    },
    {
      "cell_type": "code",
      "source": [
        "response = model.generate_content([lista_psi,\n",
        "                                   \"Quais os psicologos mais adequados para uma pessoa com os sintomas abaixo?\",\n",
        "                                   dados,\n",
        "                                   \"Informe o nome e e-mail.\"])\n",
        "\n",
        "print(response.text)"
      ],
      "metadata": {
        "colab": {
          "base_uri": "https://localhost:8080/",
          "height": 52
        },
        "id": "LQJo5in2eV_C",
        "outputId": "82e889ac-05cc-448d-f92f-07ef021e5465"
      },
      "execution_count": 5,
      "outputs": [
        {
          "output_type": "stream",
          "name": "stdout",
          "text": [
            "- Alan Foster Nordstrom (alan.nordstrom@test.com)\n",
            "- Cherie Sellers Pilon (cherie.pilon@test.com)\n"
          ]
        }
      ]
    }
  ]
}